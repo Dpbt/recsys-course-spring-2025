{
 "cells": [
  {
   "cell_type": "code",
   "execution_count": 1,
   "metadata": {
    "collapsed": true,
    "jupyter": {
     "outputs_hidden": true
    },
    "tags": []
   },
   "outputs": [
    {
     "ename": "ModuleNotFoundError",
     "evalue": "No module named 'pyspark'",
     "output_type": "error",
     "traceback": [
      "\u001b[0;31m---------------------------------------------------------------------------\u001b[0m",
      "\u001b[0;31mModuleNotFoundError\u001b[0m                       Traceback (most recent call last)",
      "Cell \u001b[0;32mIn[1], line 1\u001b[0m\n\u001b[0;32m----> 1\u001b[0m \u001b[38;5;28;01mfrom\u001b[39;00m \u001b[38;5;21;01mpyspark\u001b[39;00m\u001b[38;5;21;01m.\u001b[39;00m\u001b[38;5;21;01msql\u001b[39;00m \u001b[38;5;28;01mimport\u001b[39;00m SparkSession\n\u001b[1;32m      3\u001b[0m \u001b[38;5;28;01mimport\u001b[39;00m \u001b[38;5;21;01mpyspark\u001b[39;00m\u001b[38;5;21;01m.\u001b[39;00m\u001b[38;5;21;01msql\u001b[39;00m\u001b[38;5;21;01m.\u001b[39;00m\u001b[38;5;21;01mfunctions\u001b[39;00m \u001b[38;5;28;01mas\u001b[39;00m \u001b[38;5;21;01mspf\u001b[39;00m\n\u001b[1;32m      5\u001b[0m \u001b[38;5;28;01mfrom\u001b[39;00m \u001b[38;5;21;01mpyspark\u001b[39;00m\u001b[38;5;21;01m.\u001b[39;00m\u001b[38;5;21;01mml\u001b[39;00m\u001b[38;5;21;01m.\u001b[39;00m\u001b[38;5;21;01mrecommendation\u001b[39;00m \u001b[38;5;28;01mimport\u001b[39;00m ALS\n",
      "\u001b[0;31mModuleNotFoundError\u001b[0m: No module named 'pyspark'"
     ]
    }
   ],
   "source": [
    "from pyspark.sql import SparkSession\n",
    "\n",
    "import pyspark.sql.functions as spf\n",
    "\n",
    "from pyspark.ml.recommendation import ALS\n",
    "from pyspark.ml.evaluation import RegressionEvaluator"
   ]
  },
  {
   "cell_type": "code",
   "execution_count": 2,
   "metadata": {},
   "outputs": [
    {
     "data": {
      "text/html": [
       "\n",
       "            <div>\n",
       "                <p><b>SparkSession - in-memory</b></p>\n",
       "                \n",
       "        <div>\n",
       "            <p><b>SparkContext</b></p>\n",
       "\n",
       "            <p><a href=\"http://mipt-client.atp-fivt.org:4045\">Spark UI</a></p>\n",
       "\n",
       "            <dl>\n",
       "              <dt>Version</dt>\n",
       "                <dd><code>v2.4.0.cloudera2</code></dd>\n",
       "              <dt>Master</dt>\n",
       "                <dd><code>yarn</code></dd>\n",
       "              <dt>AppName</dt>\n",
       "                <dd><code>PySparkShell</code></dd>\n",
       "            </dl>\n",
       "        </div>\n",
       "        \n",
       "            </div>\n",
       "        "
      ],
      "text/plain": [
       "<pyspark.sql.session.SparkSession at 0x7f385eddfcc0>"
      ]
     },
     "execution_count": 2,
     "metadata": {},
     "output_type": "execute_result"
    }
   ],
   "source": [
    "spark = SparkSession.builder.appName(\"anokhin\").getOrCreate()\n",
    "spark"
   ]
  },
  {
   "cell_type": "markdown",
   "metadata": {},
   "source": [
    "## Model Based Collaborative filtering\n",
    "\n",
    "### Собираем данные на Spark и сохраняем как pandas dataframe"
   ]
  },
  {
   "cell_type": "code",
   "execution_count": 13,
   "metadata": {},
   "outputs": [
    {
     "name": "stdout",
     "output_type": "stream",
     "text": [
      "+----+-----+------------------+-----+\n",
      "|user|track|              time| test|\n",
      "+----+-----+------------------+-----+\n",
      "|8779| 9293|               1.0|false|\n",
      "|5021|46804|0.6666666666666666|false|\n",
      "|6980|40897|             0.045| true|\n",
      "|8406|24479|              0.61|false|\n",
      "|2374| 3146|               0.0|false|\n",
      "|2319|22543|              0.37|false|\n",
      "|8377|45742|              0.02|false|\n",
      "|1249|16019|              0.01|false|\n",
      "|7604| 6823|              0.13|false|\n",
      "|5287| 2803|               0.4| true|\n",
      "+----+-----+------------------+-----+\n",
      "\n"
     ]
    }
   ],
   "source": [
    "data = (\n",
    "    spark.read.json(\"/user/anokhin/seminar-2/*/data.json\")\n",
    "#         .filter(spf.col(\"time\") > 0.8)\n",
    "        .select(\"user\", \"track\", \"time\")\n",
    "        .groupBy(\"user\", \"track\")\n",
    "        .agg(\n",
    "            spf.avg(\"time\").alias(\"time\")\n",
    "        )\n",
    "        .withColumn(\"test\", spf.rand() > 0.8)\n",
    ")\n",
    "\n",
    "data.limit(10).show()"
   ]
  },
  {
   "cell_type": "code",
   "execution_count": 14,
   "metadata": {
    "tags": []
   },
   "outputs": [],
   "source": [
    "data.toPandas().to_json(\"/home/anokhin/week04.json\", orient=\"records\", lines=True)"
   ]
  },
  {
   "cell_type": "markdown",
   "metadata": {},
   "source": [
    "### Обучаем ALS на Spark и сохраняем рекомендации"
   ]
  },
  {
   "cell_type": "code",
   "execution_count": 15,
   "metadata": {
    "collapsed": true,
    "jupyter": {
     "outputs_hidden": true
    },
    "tags": []
   },
   "outputs": [],
   "source": [
    "als = ALS(\n",
    "    rank=50,\n",
    "    maxIter=25, \n",
    "    regParam=0.1, \n",
    "    userCol=\"user\", \n",
    "    itemCol=\"track\", \n",
    "    ratingCol=\"time\",\n",
    "    coldStartStrategy=\"drop\",\n",
    ").fit(data.filter(spf.col(\"test\") == False))"
   ]
  },
  {
   "cell_type": "code",
   "execution_count": 16,
   "metadata": {},
   "outputs": [
    {
     "name": "stdout",
     "output_type": "stream",
     "text": [
      "+----+-----+------------------+----+----------+\n",
      "|user|track|time              |test|prediction|\n",
      "+----+-----+------------------+----+----------+\n",
      "|6958|471  |0.26              |true|0.31410235|\n",
      "|2021|833  |0.3333333333333333|true|0.18633708|\n",
      "|7045|1342 |0.5               |true|0.34375912|\n",
      "|7833|1645 |0.53              |true|0.30532998|\n",
      "|6676|1829 |0.5               |true|0.32647264|\n",
      "|861 |1959 |0.3333333333333333|true|0.22080585|\n",
      "|1290|1959 |0.2               |true|0.15932888|\n",
      "|1323|2122 |0.0               |true|0.07266973|\n",
      "|5733|2122 |1.0               |true|0.5562232 |\n",
      "|1235|2142 |0.0               |true|0.17401683|\n",
      "+----+-----+------------------+----+----------+\n",
      "only showing top 10 rows\n",
      "\n"
     ]
    }
   ],
   "source": [
    "predictions = als.transform(data.filter(spf.col(\"test\") == True))\n",
    "\n",
    "predictions.show(10, False)"
   ]
  },
  {
   "cell_type": "code",
   "execution_count": 17,
   "metadata": {},
   "outputs": [
    {
     "name": "stdout",
     "output_type": "stream",
     "text": [
      "Root-mean-square error = 0.2518213382053526\n"
     ]
    }
   ],
   "source": [
    "evaluator = RegressionEvaluator(\n",
    "    metricName=\"rmse\", \n",
    "    labelCol=\"time\",\n",
    "    predictionCol=\"prediction\"\n",
    ")\n",
    "\n",
    "rmse = evaluator.evaluate(predictions)\n",
    "print(\"Root-mean-square error = \" + str(rmse))"
   ]
  },
  {
   "cell_type": "code",
   "execution_count": 19,
   "metadata": {
    "tags": []
   },
   "outputs": [],
   "source": [
    "(\n",
    "    als\n",
    "        .recommendForAllUsers(100)\n",
    "        .select(\n",
    "            spf.col(\"user\"),\n",
    "            spf.col(\"recommendations.track\").alias(\"tracks\")\n",
    "        )\n",
    ").toPandas().to_json(\"/home/anokhin/recomendations_als.json\", orient=\"records\", lines=True)"
   ]
  },
  {
   "cell_type": "markdown",
   "metadata": {},
   "source": [
    "### Train LightFM"
   ]
  },
  {
   "cell_type": "code",
   "execution_count": 2,
   "metadata": {
    "tags": []
   },
   "outputs": [
    {
     "name": "stderr",
     "output_type": "stream",
     "text": [
      "/Users/n.anokhin/Projects/virtualenv/recsys-course/lib/python3.8/site-packages/lightfm/_lightfm_fast.py:9: UserWarning: LightFM was compiled without OpenMP support. Only a single thread will be used.\n",
      "  warnings.warn(\n"
     ]
    }
   ],
   "source": [
    "import pandas as pd\n",
    "import numpy as np\n",
    "import scipy.stats as ss\n",
    "import scipy.special as sp\n",
    "\n",
    "import lightfm\n",
    "import lightfm.data as ld\n",
    "import lightfm.evaluation as lv\n",
    "\n",
    "import tqdm\n",
    "import json\n",
    "import optuna\n",
    "\n",
    "import tensorboardX as tb\n",
    "\n",
    "import matplotlib.pyplot as pl\n",
    "import seaborn as sns\n",
    "\n",
    "np.random.seed(31337)"
   ]
  },
  {
   "cell_type": "code",
   "execution_count": 10,
   "metadata": {
    "tags": []
   },
   "outputs": [
    {
     "data": {
      "text/html": [
       "<div>\n",
       "<style scoped>\n",
       "    .dataframe tbody tr th:only-of-type {\n",
       "        vertical-align: middle;\n",
       "    }\n",
       "\n",
       "    .dataframe tbody tr th {\n",
       "        vertical-align: top;\n",
       "    }\n",
       "\n",
       "    .dataframe thead th {\n",
       "        text-align: right;\n",
       "    }\n",
       "</style>\n",
       "<table border=\"1\" class=\"dataframe\">\n",
       "  <thead>\n",
       "    <tr style=\"text-align: right;\">\n",
       "      <th></th>\n",
       "      <th>user</th>\n",
       "      <th>track</th>\n",
       "      <th>time</th>\n",
       "      <th>test</th>\n",
       "    </tr>\n",
       "  </thead>\n",
       "  <tbody>\n",
       "    <tr>\n",
       "      <th>0</th>\n",
       "      <td>3539</td>\n",
       "      <td>11995</td>\n",
       "      <td>0.59</td>\n",
       "      <td>False</td>\n",
       "    </tr>\n",
       "    <tr>\n",
       "      <th>22</th>\n",
       "      <td>4055</td>\n",
       "      <td>8027</td>\n",
       "      <td>0.80</td>\n",
       "      <td>False</td>\n",
       "    </tr>\n",
       "    <tr>\n",
       "      <th>26</th>\n",
       "      <td>3172</td>\n",
       "      <td>38209</td>\n",
       "      <td>1.00</td>\n",
       "      <td>False</td>\n",
       "    </tr>\n",
       "    <tr>\n",
       "      <th>28</th>\n",
       "      <td>5463</td>\n",
       "      <td>11790</td>\n",
       "      <td>0.64</td>\n",
       "      <td>False</td>\n",
       "    </tr>\n",
       "    <tr>\n",
       "      <th>29</th>\n",
       "      <td>757</td>\n",
       "      <td>18718</td>\n",
       "      <td>1.00</td>\n",
       "      <td>True</td>\n",
       "    </tr>\n",
       "  </tbody>\n",
       "</table>\n",
       "</div>"
      ],
      "text/plain": [
       "    user  track  time   test\n",
       "0   3539  11995  0.59  False\n",
       "22  4055   8027  0.80  False\n",
       "26  3172  38209  1.00  False\n",
       "28  5463  11790  0.64  False\n",
       "29   757  18718  1.00   True"
      ]
     },
     "execution_count": 10,
     "metadata": {},
     "output_type": "execute_result"
    }
   ],
   "source": [
    "full_data = pd.read_json(\"/Users/n.anokhin/Desktop/week04.json\", lines=True)\n",
    "\n",
    "data = full_data[full_data[\"time\"] > 0.5]\n",
    "\n",
    "data.head()"
   ]
  },
  {
   "cell_type": "code",
   "execution_count": 11,
   "metadata": {
    "tags": []
   },
   "outputs": [
    {
     "data": {
      "text/plain": [
       "6642"
      ]
     },
     "execution_count": 11,
     "metadata": {},
     "output_type": "execute_result"
    }
   ],
   "source": [
    "user_counts = data.loc[~data[\"test\"], \"user\"].value_counts()\n",
    "users = set(user_counts[user_counts >= 5].index.values)\n",
    "\n",
    "len(users)"
   ]
  },
  {
   "cell_type": "code",
   "execution_count": 12,
   "metadata": {
    "tags": []
   },
   "outputs": [
    {
     "data": {
      "text/plain": [
       "2742"
      ]
     },
     "execution_count": 12,
     "metadata": {},
     "output_type": "execute_result"
    }
   ],
   "source": [
    "track_counts = data.loc[~data[\"test\"], \"track\"].value_counts()\n",
    "tracks = set(track_counts[track_counts >= 5].index.values)\n",
    "\n",
    "len(tracks)"
   ]
  },
  {
   "cell_type": "code",
   "execution_count": 23,
   "metadata": {
    "tags": []
   },
   "outputs": [
    {
     "data": {
      "text/plain": [
       "(15089, 4629)"
      ]
     },
     "execution_count": 23,
     "metadata": {},
     "output_type": "execute_result"
    }
   ],
   "source": [
    "train_data = data[~data[\"test\"] & data[\"user\"].isin(users) & data[\"track\"].isin(tracks)]\n",
    "test_data = full_data[full_data[\"test\"] & full_data[\"user\"].isin(users) & full_data[\"track\"].isin(tracks)]\n",
    "\n",
    "len(train_data), len(test_data)"
   ]
  },
  {
   "cell_type": "code",
   "execution_count": 24,
   "metadata": {
    "tags": []
   },
   "outputs": [],
   "source": [
    "dataset = ld.Dataset()\n",
    "dataset.fit(users, tracks)"
   ]
  },
  {
   "cell_type": "code",
   "execution_count": 25,
   "metadata": {
    "tags": []
   },
   "outputs": [],
   "source": [
    "train_interactions, _ = dataset.build_interactions(train_data[[\"user\", \"track\"]].itertuples(index=False, name=None))\n",
    "test_interactions, _ = dataset.build_interactions(test_data[[\"user\", \"track\"]].itertuples(index=False, name=None))"
   ]
  },
  {
   "cell_type": "code",
   "execution_count": 17,
   "metadata": {
    "tags": []
   },
   "outputs": [],
   "source": [
    "def fit_model(epochs=1, at=10, loss=\"warp\", no_components=30, learning_rate=0.01, max_sampled=10, user_alpha=0.0, item_alpha=0.0, threads=30, verbose=False):\n",
    "    model = lightfm.LightFM(\n",
    "        no_components=no_components,\n",
    "        loss=loss,\n",
    "        learning_rate=learning_rate,\n",
    "        max_sampled=max_sampled,\n",
    "        user_alpha=user_alpha,\n",
    "        item_alpha=user_alpha,\n",
    "    )\n",
    "\n",
    "    precisions_at = []\n",
    "    for epoch in range(epochs):\n",
    "        model = model.fit_partial(train_interactions, num_threads=threads)\n",
    "        precision_at = lv.precision_at_k(model, test_interactions, train_interactions=train_interactions, k=at, num_threads=threads)\n",
    "        if verbose:\n",
    "            print(f\"{epoch}:\\t{np.mean(precision_at)} +/- {ss.sem(precision_at) * 1.96}\")\n",
    "        precisions_at.append(np.mean(precision_at))\n",
    "            \n",
    "    return model, precisions_at\n",
    "\n",
    "\n",
    "def objective(trial):\n",
    "    loss = trial.suggest_categorical(\"loss\", [\"warp\", \"bpr\"])\n",
    "    no_components = trial.suggest_categorical(\"no_components\", [10, 30, 50])\n",
    "    learning_rate = trial.suggest_categorical(\"learning_rate\", [0.001, 0.01])\n",
    "    max_sampled = trial.suggest_categorical(\"max_sampled\", [10, 20, 50, 100])\n",
    "    user_alpha = trial.suggest_categorical(\"user_alpha\", [0.0, 0.001, 0.01])\n",
    "    item_alpha = trial.suggest_categorical(\"item_alpha\", [0.0, 0.001, 0.01])\n",
    "    \n",
    "    model, precisions_at = fit_model(\n",
    "        epochs=1, \n",
    "        at=10,\n",
    "        loss=loss,\n",
    "        no_components=no_components, \n",
    "        learning_rate=learning_rate, \n",
    "        max_sampled=max_sampled, \n",
    "        user_alpha=user_alpha, \n",
    "        item_alpha=item_alpha,\n",
    "    )\n",
    "    \n",
    "    return precisions_at[-1]"
   ]
  },
  {
   "cell_type": "code",
   "execution_count": 18,
   "metadata": {
    "tags": []
   },
   "outputs": [
    {
     "name": "stderr",
     "output_type": "stream",
     "text": [
      "\u001b[32m[I 2024-10-10 10:41:58,848]\u001b[0m A new study created in memory with name: no-name-1d90968c-687f-4248-b94c-2a0c34d8b504\u001b[0m\n",
      "\u001b[32m[I 2024-10-10 10:41:59,142]\u001b[0m Trial 0 finished with value: 0.0018629806581884623 and parameters: {'loss': 'warp', 'no_components': 50, 'learning_rate': 0.01, 'max_sampled': 20, 'user_alpha': 0.0, 'item_alpha': 0.001}. Best is trial 0 with value: 0.0018629806581884623.\u001b[0m\n",
      "\u001b[32m[I 2024-10-10 10:41:59,385]\u001b[0m Trial 1 finished with value: 0.002043269108980894 and parameters: {'loss': 'warp', 'no_components': 30, 'learning_rate': 0.01, 'max_sampled': 10, 'user_alpha': 0.01, 'item_alpha': 0.01}. Best is trial 1 with value: 0.002043269108980894.\u001b[0m\n",
      "\u001b[32m[I 2024-10-10 10:41:59,614]\u001b[0m Trial 2 finished with value: 0.0009014423121698201 and parameters: {'loss': 'bpr', 'no_components': 30, 'learning_rate': 0.01, 'max_sampled': 50, 'user_alpha': 0.001, 'item_alpha': 0.001}. Best is trial 1 with value: 0.002043269108980894.\u001b[0m\n",
      "\u001b[32m[I 2024-10-10 10:41:59,896]\u001b[0m Trial 3 finished with value: 0.002163461409509182 and parameters: {'loss': 'warp', 'no_components': 30, 'learning_rate': 0.01, 'max_sampled': 20, 'user_alpha': 0.0, 'item_alpha': 0.01}. Best is trial 3 with value: 0.002163461409509182.\u001b[0m\n",
      "\u001b[32m[I 2024-10-10 10:42:00,110]\u001b[0m Trial 4 finished with value: 0.000240384615608491 and parameters: {'loss': 'bpr', 'no_components': 10, 'learning_rate': 0.01, 'max_sampled': 20, 'user_alpha': 0.001, 'item_alpha': 0.001}. Best is trial 3 with value: 0.002163461409509182.\u001b[0m\n",
      "\u001b[32m[I 2024-10-10 10:42:00,320]\u001b[0m Trial 5 finished with value: 0.0013822116889059544 and parameters: {'loss': 'warp', 'no_components': 10, 'learning_rate': 0.001, 'max_sampled': 10, 'user_alpha': 0.0, 'item_alpha': 0.01}. Best is trial 3 with value: 0.002163461409509182.\u001b[0m\n",
      "\u001b[32m[I 2024-10-10 10:42:00,528]\u001b[0m Trial 6 finished with value: 0.0007211538613773882 and parameters: {'loss': 'warp', 'no_components': 10, 'learning_rate': 0.001, 'max_sampled': 20, 'user_alpha': 0.001, 'item_alpha': 0.0}. Best is trial 3 with value: 0.002163461409509182.\u001b[0m\n",
      "\u001b[32m[I 2024-10-10 10:42:00,792]\u001b[0m Trial 7 finished with value: 0.0006610577111132443 and parameters: {'loss': 'bpr', 'no_components': 30, 'learning_rate': 0.01, 'max_sampled': 10, 'user_alpha': 0.001, 'item_alpha': 0.001}. Best is trial 3 with value: 0.002163461409509182.\u001b[0m\n",
      "\u001b[32m[I 2024-10-10 10:42:01,036]\u001b[0m Trial 8 finished with value: 0.000841346220113337 and parameters: {'loss': 'bpr', 'no_components': 30, 'learning_rate': 0.01, 'max_sampled': 100, 'user_alpha': 0.0, 'item_alpha': 0.001}. Best is trial 3 with value: 0.002163461409509182.\u001b[0m\n",
      "\u001b[32m[I 2024-10-10 10:42:01,227]\u001b[0m Trial 9 finished with value: 0.0010817308211699128 and parameters: {'loss': 'warp', 'no_components': 10, 'learning_rate': 0.001, 'max_sampled': 10, 'user_alpha': 0.01, 'item_alpha': 0.0}. Best is trial 3 with value: 0.002163461409509182.\u001b[0m\n"
     ]
    },
    {
     "data": {
      "text/plain": [
       "{'loss': 'warp',\n",
       " 'no_components': 30,\n",
       " 'learning_rate': 0.01,\n",
       " 'max_sampled': 20,\n",
       " 'user_alpha': 0.0,\n",
       " 'item_alpha': 0.01}"
      ]
     },
     "execution_count": 18,
     "metadata": {},
     "output_type": "execute_result"
    }
   ],
   "source": [
    "study = optuna.create_study(direction=\"maximize\")\n",
    "study.optimize(objective, n_trials=10)\n",
    "best_params = study.best_params\n",
    "\n",
    "best_params"
   ]
  },
  {
   "cell_type": "code",
   "execution_count": 19,
   "metadata": {
    "collapsed": true,
    "jupyter": {
     "outputs_hidden": true
    },
    "tags": []
   },
   "outputs": [],
   "source": [
    "best_params = {\n",
    "    'loss': 'warp',\n",
    "    'no_components': 50,\n",
    "    'learning_rate': 0.01,\n",
    "    'max_sampled': 100,\n",
    "    'user_alpha': 0.0,\n",
    "    'item_alpha': 0.01\n",
    "}"
   ]
  },
  {
   "cell_type": "code",
   "execution_count": 20,
   "metadata": {
    "tags": []
   },
   "outputs": [
    {
     "name": "stdout",
     "output_type": "stream",
     "text": [
      "0:\t0.0012620191555470228 +/- 0.0005365189523513898\n",
      "1:\t0.0014423077227547765 +/- 0.0005730390529280436\n",
      "2:\t0.0016225961735472083 +/- 0.0006072435024832864\n",
      "3:\t0.001983173191547394 +/- 0.0006701015156348574\n",
      "4:\t0.002343749860301614 +/- 0.0007271359000553197\n",
      "5:\t0.002343749860301614 +/- 0.0007271359000553197\n",
      "6:\t0.0024038460105657578 +/- 0.000736172657911059\n",
      "7:\t0.003004807746037841 +/- 0.0008372760095128142\n",
      "8:\t0.003665865631774068 +/- 0.0009334434552899065\n",
      "9:\t0.0045072115026414394 +/- 0.0010644628182466676\n",
      "10:\t0.006129808258265257 +/- 0.0012116258684007738\n",
      "11:\t0.007752403616905212 +/- 0.001379090109522366\n",
      "12:\t0.009194711223244667 +/- 0.0015039611925893195\n",
      "13:\t0.010637019760906696 +/- 0.00160764819463212\n",
      "14:\t0.01250000111758709 +/- 0.0017316501702139952\n",
      "15:\t0.013581732288002968 +/- 0.001791950889855255\n",
      "16:\t0.015024038031697273 +/- 0.00187202780978256\n",
      "17:\t0.016346154734492302 +/- 0.00192719819089281\n",
      "18:\t0.017307693138718605 +/- 0.0019861410587408857\n",
      "19:\t0.018689902499318123 +/- 0.002050522672533583\n",
      "20:\t0.019951920956373215 +/- 0.002126580988373256\n",
      "21:\t0.020973559468984604 +/- 0.0021591116162067736\n",
      "22:\t0.021754808723926544 +/- 0.002189266450888309\n",
      "23:\t0.022836538031697273 +/- 0.00224552995102057\n",
      "24:\t0.02391826920211315 +/- 0.0023052725660096876\n",
      "25:\t0.02475961670279503 +/- 0.0023327648584524135\n",
      "26:\t0.02530048042535782 +/- 0.0023579057009864837\n",
      "27:\t0.02626201882958412 +/- 0.002368919049652819\n",
      "28:\t0.026983173564076424 +/- 0.0023969139584724573\n",
      "29:\t0.027704326435923576 +/- 0.002418356238970862\n",
      "30:\t0.02836538478732109 +/- 0.0024321867810689034\n",
      "31:\t0.028846153989434242 +/- 0.0024419362500210716\n",
      "32:\t0.02968750149011612 +/- 0.002475265551029014\n",
      "33:\t0.030649038031697273 +/- 0.002504110504426273\n",
      "34:\t0.03131009638309479 +/- 0.0025156828527169313\n",
      "35:\t0.03197115287184715 +/- 0.0025322910304762737\n",
      "36:\t0.032692309468984604 +/- 0.002549338997565415\n",
      "37:\t0.033173076808452606 +/- 0.002567600009948837\n",
      "38:\t0.03383413702249527 +/- 0.002593500683864672\n",
      "39:\t0.034495193511247635 +/- 0.0026134535516592686\n",
      "40:\t0.03509615361690521 +/- 0.0026215174300055293\n",
      "41:\t0.03569711744785309 +/- 0.0026397784423889507\n",
      "42:\t0.0361177884042263 +/- 0.0026710756195624584\n",
      "43:\t0.03665865212678909 +/- 0.002677434933892572\n",
      "44:\t0.03731971234083176 +/- 0.0026796698584232465\n",
      "45:\t0.03804086893796921 +/- 0.00269247870027933\n",
      "46:\t0.03852163255214691 +/- 0.002712704534589166\n",
      "47:\t0.0390625 +/- 0.0027331424773059257\n",
      "48:\t0.03924278914928436 +/- 0.0027347949539411323\n",
      "49:\t0.03984375298023224 +/- 0.002750211923727414\n",
      "50:\t0.040204327553510666 +/- 0.0027582693582739706\n",
      "51:\t0.040745195001363754 +/- 0.0027676012332064318\n",
      "52:\t0.04134615510702133 +/- 0.002782087073935484\n",
      "53:\t0.04164663702249527 +/- 0.002789189573164794\n",
      "54:\t0.04188702255487442 +/- 0.0027957980477501293\n",
      "55:\t0.042067307978868484 +/- 0.002792025203023431\n",
      "56:\t0.04242789000272751 +/- 0.002794336916167245\n",
      "57:\t0.04260817542672157 +/- 0.002800413598282563\n",
      "58:\t0.04230769723653793 +/- 0.0027886046193472186\n",
      "59:\t0.0424879789352417 +/- 0.002784759102879414\n",
      "60:\t0.04272836446762085 +/- 0.002781245621090802\n",
      "61:\t0.04266827553510666 +/- 0.0027758847377259374\n",
      "62:\t0.04266826808452606 +/- 0.0027758847377259374\n",
      "63:\t0.04272836446762085 +/- 0.002781245621090802\n",
      "64:\t0.04314903914928436 +/- 0.002783711985427512\n",
      "65:\t0.0434495210647583 +/- 0.002790361807727615\n",
      "66:\t0.043389420956373215 +/- 0.0027999682601252416\n",
      "67:\t0.04350962117314339 +/- 0.0028006176519398567\n",
      "68:\t0.04338942468166351 +/- 0.002799968081130805\n",
      "69:\t0.04350961744785309 +/- 0.002795656284156641\n",
      "70:\t0.04356971010565758 +/- 0.0027810417464279448\n",
      "71:\t0.043810103088617325 +/- 0.002787286504318876\n",
      "72:\t0.04429086297750473 +/- 0.0027946281401149786\n",
      "73:\t0.04423077404499054 +/- 0.0027943431809725125\n",
      "74:\t0.04453125223517418 +/- 0.002795738263608431\n",
      "75:\t0.044651445001363754 +/- 0.0028061870638229204\n",
      "76:\t0.04447115212678909 +/- 0.002795465118098755\n",
      "77:\t0.044651445001363754 +/- 0.0028061870638229204\n",
      "78:\t0.04483173415064812 +/- 0.002806967300570414\n",
      "79:\t0.04501201957464218 +/- 0.0028126609345922164\n",
      "80:\t0.04507211595773697 +/- 0.0028178363797211545\n",
      "81:\t0.045192304998636246 +/- 0.002808447226569102\n",
      "82:\t0.04531250149011612 +/- 0.002813854469492948\n",
      "83:\t0.04507211595773697 +/- 0.002798060537423982\n",
      "84:\t0.04531250521540642 +/- 0.002808916728975314\n",
      "85:\t0.04531250149011612 +/- 0.0028039698597414325\n",
      "86:\t0.04525240510702133 +/- 0.0027938160423578375\n",
      "87:\t0.045192304998636246 +/- 0.0027836221302205283\n",
      "88:\t0.04549279063940048 +/- 0.002794735536776712\n",
      "89:\t0.04537259787321091 +/- 0.0027893093204426267\n",
      "90:\t0.04537259787321091 +/- 0.0027793373614062337\n",
      "91:\t0.045192304998636246 +/- 0.002773629765818406\n",
      "92:\t0.045432694256305695 +/- 0.0027745678756586484\n",
      "93:\t0.04531250521540642 +/- 0.002774104996046577\n",
      "94:\t0.045192308723926544 +/- 0.0027636014235346033\n",
      "95:\t0.045372601598501205 +/- 0.0027743378678081027\n",
      "96:\t0.045492786914110184 +/- 0.0027847830881338677\n",
      "97:\t0.045432690531015396 +/- 0.0027845570181609185\n",
      "98:\t0.045432694256305695 +/- 0.0027845568391664825\n",
      "99:\t0.04525240510702133 +/- 0.0027888425029529585\n"
     ]
    }
   ],
   "source": [
    "model, precisions_at = fit_model(\n",
    "    epochs=100,\n",
    "    at=10,\n",
    "    loss=best_params[\"loss\"],\n",
    "    no_components=best_params[\"no_components\"], \n",
    "    learning_rate=best_params[\"learning_rate\"], \n",
    "    max_sampled=best_params[\"max_sampled\"],\n",
    "    user_alpha=best_params[\"user_alpha\"],\n",
    "    item_alpha=best_params[\"item_alpha\"],\n",
    "    verbose=True,\n",
    ")"
   ]
  },
  {
   "cell_type": "code",
   "execution_count": 21,
   "metadata": {
    "tags": []
   },
   "outputs": [
    {
     "data": {
      "image/png": "[encoded data removed]",
      "text/plain": [
       "<Figure size 640x480 with 1 Axes>"
      ]
     },
     "metadata": {},
     "output_type": "display_data"
    }
   ],
   "source": [
    "figure, ax = pl.subplots()\n",
    "\n",
    "ax.plot(np.arange(len(precisions_at)), precisions_at)\n",
    "\n",
    "pass"
   ]
  },
  {
   "cell_type": "code",
   "execution_count": 26,
   "metadata": {
    "tags": []
   },
   "outputs": [
    {
     "data": {
      "text/plain": [
       "0.6639408186480767"
      ]
     },
     "execution_count": 26,
     "metadata": {},
     "output_type": "execute_result"
    }
   ],
   "source": [
    "predictions = model.predict(\n",
    "    test_data[\"user\"].map(dataset.mapping()[0]).values,\n",
    "    test_data[\"track\"].map(dataset.mapping()[2]).values,\n",
    ")\n",
    "\n",
    "rmse = np.sqrt(((predictions - test_data[\"time\"].values) * (predictions - test_data[\"time\"].values)).mean())\n",
    "rmse # Q: ???"
   ]
  },
  {
   "cell_type": "markdown",
   "metadata": {},
   "source": [
    "## Save track embeddings"
   ]
  },
  {
   "cell_type": "code",
   "execution_count": 27,
   "metadata": {
    "tags": []
   },
   "outputs": [],
   "source": [
    "BOTIFY_DATA_DIR = \"/Users/n.anokhin/Projects/recsys-course/botify/data/\""
   ]
  },
  {
   "cell_type": "code",
   "execution_count": 28,
   "metadata": {
    "tags": []
   },
   "outputs": [],
   "source": [
    "biases, embeddings = model.get_item_representations()"
   ]
  },
  {
   "cell_type": "code",
   "execution_count": 29,
   "metadata": {
    "tags": []
   },
   "outputs": [],
   "source": [
    "track_meta = pd.read_json(BOTIFY_DATA_DIR + \"tracks.json\", lines=True)\n",
    "track_meta[\"dataset_index\"] = track_meta[\"track\"].map(lambda t: dataset.mapping()[2].get(t))"
   ]
  },
  {
   "cell_type": "code",
   "execution_count": 30,
   "metadata": {
    "tags": []
   },
   "outputs": [],
   "source": [
    "dataset_tracks = track_meta[pd.notnull(track_meta[\"dataset_index\"])].sort_values(\"dataset_index\")"
   ]
  },
  {
   "cell_type": "code",
   "execution_count": 31,
   "metadata": {
    "tags": []
   },
   "outputs": [],
   "source": [
    "writer = tb.SummaryWriter(comment='msd_ligtfm_embeddings', log_dir=\"/Users/n.anokhin/Desktop/tb\")\n",
    "writer.add_embedding(embeddings, metadata=list(dataset_tracks[[\"artist\", \"title\"]].itertuples(index=False, name=None)), tag=\"lightfm\", metadata_header=[\"artist\", \"title\"])\n",
    "writer.close()"
   ]
  },
  {
   "cell_type": "markdown",
   "metadata": {},
   "source": [
    "## Compute top recommendations"
   ]
  },
  {
   "cell_type": "code",
   "execution_count": 32,
   "metadata": {
    "tags": []
   },
   "outputs": [],
   "source": [
    "tracks = dataset_tracks[\"track\"].values\n",
    "users = [user for user, index in sorted(dataset.mapping()[0].items(), key=lambda kv: kv[1])]"
   ]
  },
  {
   "cell_type": "code",
   "execution_count": 33,
   "metadata": {
    "tags": []
   },
   "outputs": [
    {
     "data": {
      "text/plain": [
       "array([-0.255514  , -0.3594906 ,  0.04824547, ..., -0.39435065,\n",
       "       -0.5408309 , -0.10414219], dtype=float32)"
      ]
     },
     "execution_count": 33,
     "metadata": {},
     "output_type": "execute_result"
    }
   ],
   "source": [
    "predictions = model.predict(1, np.arange(dataset.item_features_shape()[0]), num_threads=30)\n",
    "predictions"
   ]
  },
  {
   "cell_type": "code",
   "execution_count": 34,
   "metadata": {
    "tags": []
   },
   "outputs": [
    {
     "name": "stderr",
     "output_type": "stream",
     "text": [
      "100%|█████████████████████████████████████████████████████████████████████████████████████████████████████████████████████████████████████████████████████████████████████████████████████████████████████████████████████████████████████| 6642/6642 [00:03<00:00, 2101.17it/s]\n"
     ]
    }
   ],
   "source": [
    "with open(BOTIFY_DATA_DIR + \"recommendations_lfm.json\", \"w\") as rf:\n",
    "    for user_index in tqdm.tqdm(range(dataset.user_features_shape()[0])):\n",
    "        predictions = model.predict(user_index, np.arange(dataset.item_features_shape()[0]), num_threads=30)\n",
    "        top = tracks[np.argsort(predictions)[-100:]]\n",
    "        recommendation = {\n",
    "            \"user\": int(users[user_index]),\n",
    "            \"tracks\": top.tolist()\n",
    "        }\n",
    "        rf.write(json.dumps(recommendation) + \"\\n\")"
   ]
  },
  {
   "cell_type": "code",
   "execution_count": null,
   "metadata": {
    "collapsed": true,
    "jupyter": {
     "outputs_hidden": true
    },
    "tags": []
   },
   "outputs": [],
   "source": []
  }
 ],
 "metadata": {
  "kernelspec": {
   "display_name": "Python 3 (ipykernel)",
   "language": "python",
   "name": "python3"
  },
  "language_info": {
   "codemirror_mode": {
    "name": "ipython",
    "version": 3
   },
   "file_extension": ".py",
   "mimetype": "text/x-python",
   "name": "python",
   "nbconvert_exporter": "python",
   "pygments_lexer": "ipython3",
   "version": "3.8.0"
  }
 },
 "nbformat": 4,
 "nbformat_minor": 4
}
