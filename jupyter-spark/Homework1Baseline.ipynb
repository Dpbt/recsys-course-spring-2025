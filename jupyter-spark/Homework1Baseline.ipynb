{
 "cells": [
  {
   "cell_type": "markdown",
   "metadata": {},
   "source": [
    "## Домашнее задание 1\n",
    "\n",
    "### Обучаем LightFM бейзлайн"
   ]
  },
  {
   "cell_type": "code",
   "execution_count": 1,
   "metadata": {
    "tags": []
   },
   "outputs": [
    {
     "name": "stderr",
     "output_type": "stream",
     "text": [
      "/Users/n.anokhin/Projects/virtualenv/recsys-course/lib/python3.8/site-packages/lightfm/_lightfm_fast.py:9: UserWarning: LightFM was compiled without OpenMP support. Only a single thread will be used.\n",
      "  warnings.warn(\n"
     ]
    }
   ],
   "source": [
    "import pandas as pd\n",
    "import numpy as np\n",
    "import scipy.stats as ss\n",
    "import scipy.special as sp\n",
    "\n",
    "import lightfm\n",
    "import lightfm.data as ld\n",
    "import lightfm.evaluation as lv\n",
    "\n",
    "import tqdm\n",
    "import json\n",
    "import optuna\n",
    "\n",
    "import tensorboardX as tb\n",
    "\n",
    "import matplotlib.pyplot as pl\n",
    "import seaborn as sns\n",
    "\n",
    "np.random.seed(31337)"
   ]
  },
  {
   "cell_type": "code",
   "execution_count": 2,
   "metadata": {
    "tags": []
   },
   "outputs": [
    {
     "data": {
      "text/html": [
       "<div>\n",
       "<style scoped>\n",
       "    .dataframe tbody tr th:only-of-type {\n",
       "        vertical-align: middle;\n",
       "    }\n",
       "\n",
       "    .dataframe tbody tr th {\n",
       "        vertical-align: top;\n",
       "    }\n",
       "\n",
       "    .dataframe thead th {\n",
       "        text-align: right;\n",
       "    }\n",
       "</style>\n",
       "<table border=\"1\" class=\"dataframe\">\n",
       "  <thead>\n",
       "    <tr style=\"text-align: right;\">\n",
       "      <th></th>\n",
       "      <th>index</th>\n",
       "      <th>user</th>\n",
       "      <th>track</th>\n",
       "      <th>time</th>\n",
       "      <th>test</th>\n",
       "    </tr>\n",
       "  </thead>\n",
       "  <tbody>\n",
       "    <tr>\n",
       "      <th>0</th>\n",
       "      <td>8</td>\n",
       "      <td>4b90453a4a89fdd400cbeb7339c8fe8c</td>\n",
       "      <td>4945</td>\n",
       "      <td>1.0</td>\n",
       "      <td>False</td>\n",
       "    </tr>\n",
       "    <tr>\n",
       "      <th>1</th>\n",
       "      <td>27</td>\n",
       "      <td>4b90453a4a89fdd400cbeb7339c8fe8c</td>\n",
       "      <td>14427</td>\n",
       "      <td>1.0</td>\n",
       "      <td>True</td>\n",
       "    </tr>\n",
       "    <tr>\n",
       "      <th>2</th>\n",
       "      <td>34</td>\n",
       "      <td>4b90453a4a89fdd400cbeb7339c8fe8c</td>\n",
       "      <td>18078</td>\n",
       "      <td>1.0</td>\n",
       "      <td>False</td>\n",
       "    </tr>\n",
       "    <tr>\n",
       "      <th>3</th>\n",
       "      <td>38</td>\n",
       "      <td>4b90453a4a89fdd400cbeb7339c8fe8c</td>\n",
       "      <td>22374</td>\n",
       "      <td>1.0</td>\n",
       "      <td>False</td>\n",
       "    </tr>\n",
       "    <tr>\n",
       "      <th>4</th>\n",
       "      <td>55</td>\n",
       "      <td>4b90453a4a89fdd400cbeb7339c8fe8c</td>\n",
       "      <td>37715</td>\n",
       "      <td>1.0</td>\n",
       "      <td>False</td>\n",
       "    </tr>\n",
       "    <tr>\n",
       "      <th>5</th>\n",
       "      <td>64</td>\n",
       "      <td>4b90453a4a89fdd400cbeb7339c8fe8c</td>\n",
       "      <td>40528</td>\n",
       "      <td>1.0</td>\n",
       "      <td>True</td>\n",
       "    </tr>\n",
       "    <tr>\n",
       "      <th>6</th>\n",
       "      <td>67</td>\n",
       "      <td>4b90453a4a89fdd400cbeb7339c8fe8c</td>\n",
       "      <td>40537</td>\n",
       "      <td>1.0</td>\n",
       "      <td>True</td>\n",
       "    </tr>\n",
       "    <tr>\n",
       "      <th>7</th>\n",
       "      <td>71</td>\n",
       "      <td>4b90453a4a89fdd400cbeb7339c8fe8c</td>\n",
       "      <td>44790</td>\n",
       "      <td>0.8</td>\n",
       "      <td>False</td>\n",
       "    </tr>\n",
       "    <tr>\n",
       "      <th>8</th>\n",
       "      <td>74</td>\n",
       "      <td>4b90453a4a89fdd400cbeb7339c8fe8c</td>\n",
       "      <td>45270</td>\n",
       "      <td>0.8</td>\n",
       "      <td>False</td>\n",
       "    </tr>\n",
       "    <tr>\n",
       "      <th>9</th>\n",
       "      <td>82</td>\n",
       "      <td>4b90453a4a89fdd400cbeb7339c8fe8c</td>\n",
       "      <td>47124</td>\n",
       "      <td>0.8</td>\n",
       "      <td>False</td>\n",
       "    </tr>\n",
       "  </tbody>\n",
       "</table>\n",
       "</div>"
      ],
      "text/plain": [
       "   index                              user  track  time   test\n",
       "0      8  4b90453a4a89fdd400cbeb7339c8fe8c   4945   1.0  False\n",
       "1     27  4b90453a4a89fdd400cbeb7339c8fe8c  14427   1.0   True\n",
       "2     34  4b90453a4a89fdd400cbeb7339c8fe8c  18078   1.0  False\n",
       "3     38  4b90453a4a89fdd400cbeb7339c8fe8c  22374   1.0  False\n",
       "4     55  4b90453a4a89fdd400cbeb7339c8fe8c  37715   1.0  False\n",
       "5     64  4b90453a4a89fdd400cbeb7339c8fe8c  40528   1.0   True\n",
       "6     67  4b90453a4a89fdd400cbeb7339c8fe8c  40537   1.0   True\n",
       "7     71  4b90453a4a89fdd400cbeb7339c8fe8c  44790   0.8  False\n",
       "8     74  4b90453a4a89fdd400cbeb7339c8fe8c  45270   0.8  False\n",
       "9     82  4b90453a4a89fdd400cbeb7339c8fe8c  47124   0.8  False"
      ]
     },
     "execution_count": 2,
     "metadata": {},
     "output_type": "execute_result"
    }
   ],
   "source": [
    "data = pd.read_csv(\"/Users/n.anokhin/Desktop/train.csv\")\n",
    "\n",
    "data = data[data[\"time\"] > 0.75].copy().reset_index()\n",
    "\n",
    "data[\"test\"] = np.random.random(len(data)) > 0.8\n",
    "\n",
    "data.head(10)"
   ]
  },
  {
   "cell_type": "code",
   "execution_count": 3,
   "metadata": {
    "tags": []
   },
   "outputs": [
    {
     "data": {
      "text/plain": [
       "9948"
      ]
     },
     "execution_count": 3,
     "metadata": {},
     "output_type": "execute_result"
    }
   ],
   "source": [
    "user_counts = data.loc[~data[\"test\"], \"user\"].value_counts()\n",
    "users = set(user_counts[user_counts >= 5].index.values)\n",
    "\n",
    "len(users)"
   ]
  },
  {
   "cell_type": "code",
   "execution_count": 4,
   "metadata": {
    "tags": []
   },
   "outputs": [
    {
     "data": {
      "text/plain": [
       "22984"
      ]
     },
     "execution_count": 4,
     "metadata": {},
     "output_type": "execute_result"
    }
   ],
   "source": [
    "track_counts = data.loc[~data[\"test\"], \"track\"].value_counts()\n",
    "tracks = set(track_counts[track_counts >= 3].index.values)\n",
    "\n",
    "len(tracks)"
   ]
  },
  {
   "cell_type": "code",
   "execution_count": 5,
   "metadata": {
    "tags": []
   },
   "outputs": [
    {
     "data": {
      "text/plain": [
       "(129597, 27156)"
      ]
     },
     "execution_count": 5,
     "metadata": {},
     "output_type": "execute_result"
    }
   ],
   "source": [
    "train_data = data[~data[\"test\"] & data[\"user\"].isin(users) & data[\"track\"].isin(tracks)]\n",
    "test_data = data[data[\"test\"] & data[\"user\"].isin(users) & data[\"track\"].isin(tracks)]\n",
    "\n",
    "len(train_data), len(test_data)"
   ]
  },
  {
   "cell_type": "code",
   "execution_count": 6,
   "metadata": {
    "tags": []
   },
   "outputs": [],
   "source": [
    "dataset = ld.Dataset()\n",
    "dataset.fit(users, tracks)"
   ]
  },
  {
   "cell_type": "code",
   "execution_count": 7,
   "metadata": {
    "tags": []
   },
   "outputs": [],
   "source": [
    "train_interactions, _ = dataset.build_interactions(train_data[[\"user\", \"track\"]].itertuples(index=False, name=None))\n",
    "test_interactions, _ = dataset.build_interactions(test_data[[\"user\", \"track\"]].itertuples(index=False, name=None))"
   ]
  },
  {
   "cell_type": "code",
   "execution_count": 8,
   "metadata": {
    "tags": []
   },
   "outputs": [],
   "source": [
    "def fit_model(epochs=1, at=10, loss=\"warp\", no_components=30, learning_rate=0.01, max_sampled=10, user_alpha=0.0, item_alpha=0.0, threads=30, verbose=False):\n",
    "    model = lightfm.LightFM(\n",
    "        no_components=no_components,\n",
    "        loss=loss,\n",
    "        learning_rate=learning_rate,\n",
    "        max_sampled=max_sampled,\n",
    "        user_alpha=user_alpha,\n",
    "        item_alpha=user_alpha,\n",
    "    )\n",
    "\n",
    "    precisions_at = []\n",
    "    for epoch in range(epochs):\n",
    "        model = model.fit_partial(train_interactions, num_threads=threads)\n",
    "        precision_at = lv.precision_at_k(model, test_interactions, train_interactions=train_interactions, k=at, num_threads=threads)\n",
    "        if verbose:\n",
    "            print(f\"{epoch}:\\t{np.mean(precision_at)} +/- {ss.sem(precision_at) * 1.96}\")\n",
    "        precisions_at.append(np.mean(precision_at))\n",
    "            \n",
    "    return model, precisions_at\n",
    "\n",
    "\n",
    "def objective(trial):\n",
    "    loss = trial.suggest_categorical(\"loss\", [\"warp\", \"bpr\"])\n",
    "    no_components = trial.suggest_categorical(\"no_components\", [10, 30, 50])\n",
    "    learning_rate = trial.suggest_categorical(\"learning_rate\", [0.001, 0.01])\n",
    "    max_sampled = trial.suggest_categorical(\"max_sampled\", [10, 20, 50, 100])\n",
    "    user_alpha = trial.suggest_categorical(\"user_alpha\", [0.0, 0.001, 0.01])\n",
    "    item_alpha = trial.suggest_categorical(\"item_alpha\", [0.0, 0.001, 0.01])\n",
    "    \n",
    "    model, precisions_at = fit_model(\n",
    "        epochs=1, \n",
    "        at=10,\n",
    "        loss=loss,\n",
    "        no_components=no_components, \n",
    "        learning_rate=learning_rate, \n",
    "        max_sampled=max_sampled, \n",
    "        user_alpha=user_alpha, \n",
    "        item_alpha=item_alpha,\n",
    "    )\n",
    "    \n",
    "    return precisions_at[-1]\n"
   ]
  },
  {
   "cell_type": "raw",
   "metadata": {
    "tags": []
   },
   "source": [
    "study = optuna.create_study(direction=\"maximize\")\n",
    "study.optimize(objective, n_trials=30)\n",
    "best_params = study.best_params\n",
    "\n",
    "best_params"
   ]
  },
  {
   "cell_type": "code",
   "execution_count": 9,
   "metadata": {
    "tags": []
   },
   "outputs": [],
   "source": [
    "best_params = {\n",
    "    'loss': 'warp',\n",
    "    'no_components': 50,\n",
    "    'learning_rate': 0.01,\n",
    "    'max_sampled': 100,\n",
    "    'user_alpha': 0.0,\n",
    "    'item_alpha': 0.01\n",
    "}"
   ]
  },
  {
   "cell_type": "code",
   "execution_count": 10,
   "metadata": {
    "tags": []
   },
   "outputs": [
    {
     "name": "stdout",
     "output_type": "stream",
     "text": [
      "0:\t0.0018606710946187377 +/- 0.00029196351756030273\n",
      "1:\t0.0018938975408673286 +/- 0.00029106414433170496\n",
      "2:\t0.0019603499677032232 +/- 0.00029728706478380167\n",
      "3:\t0.0022483111824840307 +/- 0.0003266729424897796\n",
      "4:\t0.002868534764274955 +/- 0.00038196208317063294\n",
      "5:\t0.004020378924906254 +/- 0.00046276712835013623\n",
      "6:\t0.0049617900513112545 +/- 0.0005163698649844748\n",
      "7:\t0.005781371146440506 +/- 0.0005584841301364197\n",
      "8:\t0.006456972099840641 +/- 0.0005894935170440819\n",
      "9:\t0.007265477906912565 +/- 0.0006240501424635461\n",
      "10:\t0.008118285797536373 +/- 0.0006575697905696474\n",
      "11:\t0.008937866427004337 +/- 0.0006854251758236872\n",
      "12:\t0.00972422119230032 +/- 0.0007136367987083126\n",
      "13:\t0.010521652176976204 +/- 0.0007381212200675832\n",
      "14:\t0.011341234669089317 +/- 0.0007613236931112678\n",
      "15:\t0.012016834691166878 +/- 0.0007811081752045492\n",
      "16:\t0.012825341895222664 +/- 0.0008057188473030458\n",
      "17:\t0.013534167781472206 +/- 0.000823402864419612\n",
      "18:\t0.014242995530366898 +/- 0.0008410212588147546\n",
      "19:\t0.015073652379214764 +/- 0.0008650573094720265\n",
      "20:\t0.015716027468442917 +/- 0.0008796819553581944\n",
      "21:\t0.016447003930807114 +/- 0.0008979151593483141\n",
      "22:\t0.016878945752978325 +/- 0.0009083523994016259\n",
      "23:\t0.01745486818253994 +/- 0.0009192209513230299\n",
      "24:\t0.0180086400359869 +/- 0.0009335336971784501\n",
      "25:\t0.01852918602526188 +/- 0.0009445317271860355\n",
      "26:\t0.01900542713701725 +/- 0.0009551646059381114\n",
      "27:\t0.019492745399475098 +/- 0.0009662172703191536\n",
      "28:\t0.019891461357474327 +/- 0.0009768460764667383\n",
      "29:\t0.020345553755760193 +/- 0.000986567998119895\n",
      "30:\t0.0207553431391716 +/- 0.0009936584793806017\n",
      "31:\t0.02107653208076954 +/- 0.001000481090844022\n",
      "32:\t0.02139771729707718 +/- 0.0010109502970005097\n",
      "33:\t0.02178535982966423 +/- 0.0010160389010498252\n",
      "34:\t0.02206224389374256 +/- 0.0010197516563554753\n",
      "35:\t0.022405583411455154 +/- 0.001026021085182445\n",
      "36:\t0.022793220356106758 +/- 0.001033613418894695\n",
      "37:\t0.023003656417131424 +/- 0.0010400449066437754\n",
      "38:\t0.023346995934844017 +/- 0.0010465117415261753\n",
      "39:\t0.023712480440735817 +/- 0.0010549149845817314\n",
      "40:\t0.024100124835968018 +/- 0.0010625415896449823\n",
      "41:\t0.024354858323931694 +/- 0.0010660520978747695\n",
      "42:\t0.024399159476161003 +/- 0.001064736031891371\n",
      "43:\t0.02468711882829666 +/- 0.001072506253894131\n",
      "44:\t0.024908626452088356 +/- 0.0010782212706191435\n",
      "45:\t0.025174438953399658 +/- 0.0010851878832300436\n",
      "46:\t0.025296270847320557 +/- 0.0010868039387970934\n",
      "47:\t0.025539927184581757 +/- 0.0010900116143042454\n",
      "48:\t0.025628529489040375 +/- 0.0010921511916523944\n",
      "49:\t0.02588326670229435 +/- 0.0010979939191069225\n",
      "50:\t0.02588326670229435 +/- 0.0010992807852845355\n",
      "51:\t0.026093699038028717 +/- 0.0011020905750170602\n",
      "52:\t0.026270905509591103 +/- 0.0011062779808499164\n",
      "53:\t0.026470262557268143 +/- 0.0011093635550639277\n",
      "54:\t0.026625320315361023 +/- 0.001113300380458186\n",
      "55:\t0.026736071333289146 +/- 0.001115132591429644\n",
      "56:\t0.02683575265109539 +/- 0.001115170397493977\n",
      "57:\t0.02695758268237114 +/- 0.001115821630004592\n",
      "58:\t0.027024034410715103 +/- 0.0011189344829845346\n",
      "59:\t0.02720124088227749 +/- 0.001121736895924019\n",
      "60:\t0.02746705152094364 +/- 0.001126114561544047\n",
      "61:\t0.02758888155221939 +/- 0.0011292372502480438\n",
      "62:\t0.02766641043126583 +/- 0.0011315577895504704\n",
      "63:\t0.027810389176011086 +/- 0.0011310971241934038\n",
      "64:\t0.027865765616297722 +/- 0.0011298914027392374\n",
      "65:\t0.028042972087860107 +/- 0.0011338584268800057\n",
      "66:\t0.028020823374390602 +/- 0.0011320117696888435\n",
      "67:\t0.02803189866244793 +/- 0.0011316868834286805\n",
      "68:\t0.02815372683107853 +/- 0.0011335217838559346\n",
      "69:\t0.02830878272652626 +/- 0.001135618406752941\n",
      "70:\t0.028408462181687355 +/- 0.0011372555937583882\n",
      "71:\t0.028530292212963104 +/- 0.0011403049755815441\n",
      "72:\t0.02858566865324974 +/- 0.0011407480442135447\n",
      "73:\t0.028652118518948555 +/- 0.001143340679600937\n",
      "74:\t0.028729647397994995 +/- 0.0011423063149017764\n",
      "75:\t0.0287517998367548 +/- 0.001142481744261273\n",
      "76:\t0.02882932685315609 +/- 0.0011459763462810665\n",
      "77:\t0.028840405866503716 +/- 0.0011481176141442874\n",
      "78:\t0.028929008170962334 +/- 0.0011479900570979607\n",
      "79:\t0.028929008170962334 +/- 0.0011455242103409532\n",
      "80:\t0.02910621464252472 +/- 0.001149367442673509\n",
      "81:\t0.029128363355994225 +/- 0.0011503583150303683\n",
      "82:\t0.02915051579475403 +/- 0.0011484793843696533\n",
      "83:\t0.029161592945456505 +/- 0.0011502050160499934\n",
      "84:\t0.029239118099212646 +/- 0.001151210795676122\n",
      "85:\t0.029172668233513832 +/- 0.0011482399459622106\n",
      "86:\t0.029239118099212646 +/- 0.0011491620450922852\n",
      "87:\t0.02915051579475403 +/- 0.0011472476136150623\n",
      "88:\t0.029128363355994225 +/- 0.0011487184385691252\n",
      "89:\t0.029194816946983337 +/- 0.0011496413061151413\n",
      "90:\t0.029205894097685814 +/- 0.0011497265234430788\n",
      "91:\t0.029250195249915123 +/- 0.0011504768047685826\n",
      "92:\t0.029316646978259087 +/- 0.0011518044738327016\n",
      "93:\t0.029394173994660378 +/- 0.0011515774069219206\n",
      "94:\t0.0293831005692482 +/- 0.0011523113209878657\n",
      "95:\t0.029493851587176323 +/- 0.001153152044869711\n",
      "96:\t0.02953815646469593 +/- 0.001153895333610145\n",
      "97:\t0.02970428764820099 +/- 0.0011547350585512663\n",
      "98:\t0.029549231752753258 +/- 0.001153978937264605\n",
      "99:\t0.029571380466222763 +/- 0.0011549622023036411\n",
      "100:\t0.02965998649597168 +/- 0.001156035141483077\n",
      "101:\t0.02970428764820099 +/- 0.0011571812338601651\n",
      "102:\t0.02953815646469593 +/- 0.0011555279101199418\n",
      "103:\t0.029604610055685043 +/- 0.0011564352556639348\n",
      "104:\t0.029671061784029007 +/- 0.001156933112352581\n",
      "105:\t0.02962675876915455 +/- 0.0011545623186475656\n",
      "106:\t0.02973751164972782 +/- 0.0011582430310084458\n",
      "107:\t0.029671059921383858 +/- 0.0011581545094919586\n",
      "108:\t0.02969321236014366 +/- 0.0011566912150141246\n",
      "109:\t0.029726436361670494 +/- 0.0011573465201292308\n",
      "110:\t0.029748588800430298 +/- 0.0011587322814385443\n",
      "111:\t0.02965998277068138 +/- 0.001156035141483077\n",
      "112:\t0.029615681618452072 +/- 0.0011573331496918448\n",
      "113:\t0.029571380466222763 +/- 0.001157407916562975\n",
      "114:\t0.02958245761692524 +/- 0.0011550454985917245\n",
      "115:\t0.029560308903455734 +/- 0.0011536539741628482\n",
      "116:\t0.029593532904982567 +/- 0.0011567596808745328\n",
      "117:\t0.029604610055685043 +/- 0.0011552120911678912\n",
      "118:\t0.029482778161764145 +/- 0.001151022841136775\n",
      "119:\t0.02946062758564949 +/- 0.0011496254767467415\n",
      "120:\t0.02946062758564949 +/- 0.0011500353498100596\n",
      "121:\t0.029360948130488396 +/- 0.0011488655902219661\n",
      "122:\t0.029372021555900574 +/- 0.0011485399355458616\n",
      "123:\t0.0293831005692482 +/- 0.001151493111693113\n",
      "124:\t0.02934987284243107 +/- 0.0011516490232876897\n",
      "125:\t0.02930557169020176 +/- 0.0011521289758848936\n",
      "126:\t0.02926127053797245 +/- 0.0011513806924408382\n",
      "127:\t0.029294496402144432 +/- 0.0011504068020762913\n",
      "128:\t0.029172664508223534 +/- 0.0011470079446828372\n",
      "129:\t0.02918374165892601 +/- 0.0011495560119456094\n",
      "130:\t0.02918374165892601 +/- 0.0011499658850089274\n",
      "131:\t0.029250195249915123 +/- 0.0011512957824792772\n",
      "132:\t0.029250195249915123 +/- 0.001151705117651436\n",
      "133:\t0.02915051579475403 +/- 0.0011492997452290426\n",
      "134:\t0.02906191162765026 +/- 0.0011453269579687114\n",
      "135:\t0.02906191162765026 +/- 0.0011469717522919818\n",
      "136:\t0.029095139354467392 +/- 0.0011476403510028797\n",
      "137:\t0.029072986915707588 +/- 0.0011466467891902245\n",
      "138:\t0.02910621464252472 +/- 0.0011473155415843111\n",
      "139:\t0.029205890372395515 +/- 0.001149726600284673\n",
      "140:\t0.02910621464252472 +/- 0.001147726183063571\n",
      "141:\t0.028995461761951447 +/- 0.001146865634050429\n",
      "142:\t0.02894008345901966 +/- 0.0011451994777639787\n",
      "143:\t0.02886255457997322 +/- 0.0011425309228815436\n",
      "144:\t0.02886255457997322 +/- 0.001144591507070883\n",
      "145:\t0.028851479291915894 +/- 0.0011445045223862794\n",
      "146:\t0.028884707018733025 +/- 0.0011435297867641967\n",
      "147:\t0.028829330578446388 +/- 0.0011439182210227405\n",
      "148:\t0.028807178139686584 +/- 0.0011449791729134851\n",
      "149:\t0.02878502570092678 +/- 0.0011427445425133442\n"
     ]
    }
   ],
   "source": [
    "model, precisions_at = fit_model(\n",
    "    epochs=150,\n",
    "    at=10,\n",
    "    loss=best_params[\"loss\"],\n",
    "    no_components=best_params[\"no_components\"], \n",
    "    learning_rate=best_params[\"learning_rate\"], \n",
    "    max_sampled=best_params[\"max_sampled\"],\n",
    "    user_alpha=best_params[\"user_alpha\"],\n",
    "    item_alpha=best_params[\"item_alpha\"],\n",
    "    verbose=True,\n",
    ")"
   ]
  },
  {
   "cell_type": "code",
   "execution_count": 11,
   "metadata": {
    "tags": []
   },
   "outputs": [
    {
     "data": {
      "image/png": "[encoded data removed]",
      "text/plain": [
       "<Figure size 640x480 with 1 Axes>"
      ]
     },
     "metadata": {},
     "output_type": "display_data"
    }
   ],
   "source": [
    "figure, ax = pl.subplots()\n",
    "\n",
    "ax.plot(np.arange(len(precisions_at)), precisions_at)\n",
    "\n",
    "pass"
   ]
  },
  {
   "cell_type": "markdown",
   "metadata": {},
   "source": [
    "### Готовим данные для сабмита"
   ]
  },
  {
   "cell_type": "code",
   "execution_count": 12,
   "metadata": {
    "tags": []
   },
   "outputs": [
    {
     "data": {
      "text/html": [
       "<div>\n",
       "<style scoped>\n",
       "    .dataframe tbody tr th:only-of-type {\n",
       "        vertical-align: middle;\n",
       "    }\n",
       "\n",
       "    .dataframe tbody tr th {\n",
       "        vertical-align: top;\n",
       "    }\n",
       "\n",
       "    .dataframe thead th {\n",
       "        text-align: right;\n",
       "    }\n",
       "</style>\n",
       "<table border=\"1\" class=\"dataframe\">\n",
       "  <thead>\n",
       "    <tr style=\"text-align: right;\">\n",
       "      <th></th>\n",
       "      <th>user</th>\n",
       "      <th>track</th>\n",
       "    </tr>\n",
       "  </thead>\n",
       "  <tbody>\n",
       "    <tr>\n",
       "      <th>0</th>\n",
       "      <td>4b90453a4a89fdd400cbeb7339c8fe8c</td>\n",
       "      <td>2262</td>\n",
       "    </tr>\n",
       "    <tr>\n",
       "      <th>1</th>\n",
       "      <td>4b90453a4a89fdd400cbeb7339c8fe8c</td>\n",
       "      <td>3864</td>\n",
       "    </tr>\n",
       "    <tr>\n",
       "      <th>2</th>\n",
       "      <td>4b90453a4a89fdd400cbeb7339c8fe8c</td>\n",
       "      <td>4467</td>\n",
       "    </tr>\n",
       "    <tr>\n",
       "      <th>3</th>\n",
       "      <td>4b90453a4a89fdd400cbeb7339c8fe8c</td>\n",
       "      <td>9616</td>\n",
       "    </tr>\n",
       "    <tr>\n",
       "      <th>4</th>\n",
       "      <td>4b90453a4a89fdd400cbeb7339c8fe8c</td>\n",
       "      <td>10675</td>\n",
       "    </tr>\n",
       "  </tbody>\n",
       "</table>\n",
       "</div>"
      ],
      "text/plain": [
       "                               user  track\n",
       "0  4b90453a4a89fdd400cbeb7339c8fe8c   2262\n",
       "1  4b90453a4a89fdd400cbeb7339c8fe8c   3864\n",
       "2  4b90453a4a89fdd400cbeb7339c8fe8c   4467\n",
       "3  4b90453a4a89fdd400cbeb7339c8fe8c   9616\n",
       "4  4b90453a4a89fdd400cbeb7339c8fe8c  10675"
      ]
     },
     "execution_count": 12,
     "metadata": {},
     "output_type": "execute_result"
    }
   ],
   "source": [
    "submit_data = pd.read_csv(\"/Users/n.anokhin/Desktop/test.csv\")\n",
    "submit_data.head()"
   ]
  },
  {
   "cell_type": "code",
   "execution_count": 13,
   "metadata": {
    "tags": []
   },
   "outputs": [],
   "source": [
    "filtered_submit_data = submit_data[submit_data[\"user\"].isin(users) & submit_data[\"track\"].isin(tracks)].drop_duplicates().copy()"
   ]
  },
  {
   "cell_type": "code",
   "execution_count": 14,
   "metadata": {
    "tags": []
   },
   "outputs": [],
   "source": [
    "filtered_submit_data[\"score\"] = model.predict(\n",
    "    filtered_submit_data[\"user\"].map(dataset.mapping()[0]).values,\n",
    "    filtered_submit_data[\"track\"].map(dataset.mapping()[2]).values,\n",
    ")"
   ]
  },
  {
   "cell_type": "code",
   "execution_count": 15,
   "metadata": {
    "tags": []
   },
   "outputs": [
    {
     "data": {
      "text/plain": [
       "<Axes: xlabel='score', ylabel='Count'>"
      ]
     },
     "execution_count": 15,
     "metadata": {},
     "output_type": "execute_result"
    },
    {
     "data": {
      "image/png": "[encoded data removed]",
      "text/plain": [
       "<Figure size 640x480 with 1 Axes>"
      ]
     },
     "metadata": {},
     "output_type": "display_data"
    }
   ],
   "source": [
    "sns.histplot(filtered_submit_data[\"score\"])"
   ]
  },
  {
   "cell_type": "code",
   "execution_count": 16,
   "metadata": {
    "tags": []
   },
   "outputs": [
    {
     "data": {
      "text/html": [
       "<div>\n",
       "<style scoped>\n",
       "    .dataframe tbody tr th:only-of-type {\n",
       "        vertical-align: middle;\n",
       "    }\n",
       "\n",
       "    .dataframe tbody tr th {\n",
       "        vertical-align: top;\n",
       "    }\n",
       "\n",
       "    .dataframe thead th {\n",
       "        text-align: right;\n",
       "    }\n",
       "</style>\n",
       "<table border=\"1\" class=\"dataframe\">\n",
       "  <thead>\n",
       "    <tr style=\"text-align: right;\">\n",
       "      <th></th>\n",
       "      <th>user</th>\n",
       "      <th>track</th>\n",
       "      <th>score</th>\n",
       "    </tr>\n",
       "  </thead>\n",
       "  <tbody>\n",
       "    <tr>\n",
       "      <th>0</th>\n",
       "      <td>4b90453a4a89fdd400cbeb7339c8fe8c</td>\n",
       "      <td>2262</td>\n",
       "      <td>0.004059</td>\n",
       "    </tr>\n",
       "    <tr>\n",
       "      <th>1</th>\n",
       "      <td>4b90453a4a89fdd400cbeb7339c8fe8c</td>\n",
       "      <td>3864</td>\n",
       "      <td>0.283145</td>\n",
       "    </tr>\n",
       "    <tr>\n",
       "      <th>2</th>\n",
       "      <td>4b90453a4a89fdd400cbeb7339c8fe8c</td>\n",
       "      <td>4467</td>\n",
       "      <td>0.412571</td>\n",
       "    </tr>\n",
       "    <tr>\n",
       "      <th>3</th>\n",
       "      <td>4b90453a4a89fdd400cbeb7339c8fe8c</td>\n",
       "      <td>9616</td>\n",
       "      <td>0.477830</td>\n",
       "    </tr>\n",
       "    <tr>\n",
       "      <th>4</th>\n",
       "      <td>4b90453a4a89fdd400cbeb7339c8fe8c</td>\n",
       "      <td>10675</td>\n",
       "      <td>0.684693</td>\n",
       "    </tr>\n",
       "  </tbody>\n",
       "</table>\n",
       "</div>"
      ],
      "text/plain": [
       "                               user  track     score\n",
       "0  4b90453a4a89fdd400cbeb7339c8fe8c   2262  0.004059\n",
       "1  4b90453a4a89fdd400cbeb7339c8fe8c   3864  0.283145\n",
       "2  4b90453a4a89fdd400cbeb7339c8fe8c   4467  0.412571\n",
       "3  4b90453a4a89fdd400cbeb7339c8fe8c   9616  0.477830\n",
       "4  4b90453a4a89fdd400cbeb7339c8fe8c  10675  0.684693"
      ]
     },
     "execution_count": 16,
     "metadata": {},
     "output_type": "execute_result"
    }
   ],
   "source": [
    "scored_submit_data = pd.merge(\n",
    "    submit_data,\n",
    "    filtered_submit_data,\n",
    "    left_on=[\"user\", \"track\"],\n",
    "    right_on=[\"user\", \"track\"],\n",
    "    how=\"left\"\n",
    ")\n",
    "\n",
    "# Fill missing scores with small random numbers\n",
    "scored_submit_data[\"score\"] = scored_submit_data[\"score\"].map(lambda s : np.random.random() * 0.01 if pd.isna(s) else np.exp(s))\n",
    "# scored_submit_data[\"score\"] = scored_submit_data[\"score\"].map(lambda s : np.random.random())\n",
    "\n",
    "scored_submit_data.head()"
   ]
  },
  {
   "cell_type": "code",
   "execution_count": 17,
   "metadata": {
    "tags": []
   },
   "outputs": [],
   "source": [
    "scored_submit_data.to_csv(\"/Users/n.anokhin/Desktop/submit.csv\", index=False)"
   ]
  },
  {
   "cell_type": "code",
   "execution_count": 18,
   "metadata": {
    "tags": []
   },
   "outputs": [
    {
     "name": "stdout",
     "output_type": "stream",
     "text": [
      "user,track,score\n",
      "4b90453a4a89fdd400cbeb7339c8fe8c,2262,0.004058763161331291\n",
      "4b90453a4a89fdd400cbeb7339c8fe8c,3864,0.28314463670595397\n",
      "4b90453a4a89fdd400cbeb7339c8fe8c,4467,0.4125708105758185\n",
      "4b90453a4a89fdd400cbeb7339c8fe8c,9616,0.4778302947570418\n",
      "4b90453a4a89fdd400cbeb7339c8fe8c,10675,0.6846927144838257\n",
      "4b90453a4a89fdd400cbeb7339c8fe8c,12666,0.37893745233308557\n",
      "4b90453a4a89fdd400cbeb7339c8fe8c,13335,0.8303565128765577\n",
      "4b90453a4a89fdd400cbeb7339c8fe8c,15874,0.38635471560226986\n",
      "4b90453a4a89fdd400cbeb7339c8fe8c,16294,0.38141027541486006\n"
     ]
    }
   ],
   "source": [
    "%%sh \n",
    "head /Users/n.anokhin/Desktop/submit.csv"
   ]
  },
  {
   "cell_type": "code",
   "execution_count": null,
   "metadata": {},
   "outputs": [],
   "source": []
  }
 ],
 "metadata": {
  "kernelspec": {
   "display_name": "Python 3 (ipykernel)",
   "language": "python",
   "name": "python3"
  },
  "language_info": {
   "codemirror_mode": {
    "name": "ipython",
    "version": 3
   },
   "file_extension": ".py",
   "mimetype": "text/x-python",
   "name": "python",
   "nbconvert_exporter": "python",
   "pygments_lexer": "ipython3",
   "version": "3.8.0"
  }
 },
 "nbformat": 4,
 "nbformat_minor": 4
}
